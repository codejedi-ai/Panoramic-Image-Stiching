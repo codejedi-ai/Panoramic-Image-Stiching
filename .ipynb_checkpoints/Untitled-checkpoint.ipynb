{
 "cells": [
  {
   "cell_type": "code",
   "execution_count": 22,
   "id": "ab9659c3",
   "metadata": {},
   "outputs": [],
   "source": [
    "%matplotlib notebook\n",
    "\n",
    "import numpy as np\n",
    "import numpy.linalg as la\n",
    "import matplotlib\n",
    "import matplotlib.pyplot as plt\n",
    "from skimage.measure import ransac"
   ]
  },
  {
   "cell_type": "code",
   "execution_count": 107,
   "id": "b6a99ac2",
   "metadata": {},
   "outputs": [],
   "source": [
    "# this function takes in a transformation A and an array of vectors b\n",
    "# it applies the linaer transformatoin A on every vector in B\n",
    "def applyTransformationToAll(A,b):\n",
    "    return np.column_stack(np.dot(A, np.transpose(b)))\n",
    "\n",
    "def scaleVector(b):\n",
    "    return (1 / b[2]) * b\n"
   ]
  },
  {
   "cell_type": "code",
   "execution_count": 110,
   "id": "2dfb8d3c",
   "metadata": {
    "scrolled": false
   },
   "outputs": [
    {
     "data": {
      "text/plain": [
       "array([[ 1,  1,  1],\n",
       "       [ 2,  2,  6],\n",
       "       [ 2,  2, 23],\n",
       "       [ 2,  2,  8],\n",
       "       [ 2,  2,  1],\n",
       "       [ 2,  2,  4],\n",
       "       [23, 52,  2],\n",
       "       [ 2,  6,  2]])"
      ]
     },
     "execution_count": 110,
     "metadata": {},
     "output_type": "execute_result"
    }
   ],
   "source": [
    "a =[[1, 0, 5], [6,2,9],[2,0, 1]]\n",
    "b =[[1, 1,1], [2, 2,6],[2, 2,23],[2, 2,8],[2, 2,1],[2, 2,4],[23,52, 2],[2,6, 2]]\n",
    "b = np.array(b)\n",
    "b"
   ]
  },
  {
   "cell_type": "code",
   "execution_count": 111,
   "id": "7def7624",
   "metadata": {},
   "outputs": [
    {
     "data": {
      "text/plain": [
       "array([[  6,  17,   3],\n",
       "       [ 32,  70,  10],\n",
       "       [117, 223,  27],\n",
       "       [ 42,  88,  12],\n",
       "       [  7,  25,   5],\n",
       "       [ 22,  52,   8],\n",
       "       [ 33, 260,  48],\n",
       "       [ 12,  42,   6]])"
      ]
     },
     "execution_count": 111,
     "metadata": {},
     "output_type": "execute_result"
    }
   ],
   "source": [
    "applyTransformationToAll(a,b)"
   ]
  },
  {
   "cell_type": "code",
   "execution_count": 112,
   "id": "6ed46a0f",
   "metadata": {},
   "outputs": [
    {
     "data": {
      "text/plain": [
       "array([[2.        , 5.66666667, 1.        ],\n",
       "       [3.2       , 7.        , 1.        ],\n",
       "       [4.33333333, 8.25925926, 1.        ],\n",
       "       [3.5       , 7.33333333, 1.        ],\n",
       "       [1.4       , 5.        , 1.        ],\n",
       "       [2.75      , 6.5       , 1.        ],\n",
       "       [0.6875    , 5.41666667, 1.        ],\n",
       "       [2.        , 7.        , 1.        ]])"
      ]
     },
     "execution_count": 112,
     "metadata": {},
     "output_type": "execute_result"
    }
   ],
   "source": [
    "# apply a function on every axis\n",
    "c = np.apply_along_axis(scaleVector, 1, applyTransformationToAll(a,b))"
   ]
  },
  {
   "cell_type": "code",
   "execution_count": null,
   "id": "ffb0738c",
   "metadata": {},
   "outputs": [],
   "source": [
    "def getNorm(b):\n",
    "    return np.dot(b,b)"
   ]
  }
 ],
 "metadata": {
  "kernelspec": {
   "display_name": "Python 3 (ipykernel)",
   "language": "python",
   "name": "python3"
  },
  "language_info": {
   "codemirror_mode": {
    "name": "ipython",
    "version": 3
   },
   "file_extension": ".py",
   "mimetype": "text/x-python",
   "name": "python",
   "nbconvert_exporter": "python",
   "pygments_lexer": "ipython3",
   "version": "3.10.4"
  }
 },
 "nbformat": 4,
 "nbformat_minor": 5
}
